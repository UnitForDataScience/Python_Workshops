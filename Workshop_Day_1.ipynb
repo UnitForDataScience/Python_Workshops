{
  "nbformat": 4,
  "nbformat_minor": 0,
  "metadata": {
    "colab": {
      "name": "Workshop_Day_1.ipynb",
      "provenance": [],
      "collapsed_sections": [],
      "toc_visible": true,
      "authorship_tag": "ABX9TyM8vQ8J9afNtwhrgXd4HsZk",
      "include_colab_link": true
    },
    "kernelspec": {
      "name": "python3",
      "display_name": "Python 3"
    },
    "language_info": {
      "name": "python"
    }
  },
  "cells": [
    {
      "cell_type": "markdown",
      "metadata": {
        "id": "view-in-github",
        "colab_type": "text"
      },
      "source": [
        "<a href=\"https://colab.research.google.com/github/UnitForDataScience/Python_Workshops/blob/master/Workshop_Day_1.ipynb\" target=\"_parent\"><img src=\"https://colab.research.google.com/assets/colab-badge.svg\" alt=\"Open In Colab\"/></a>"
      ]
    },
    {
      "cell_type": "markdown",
      "metadata": {
        "id": "tDwrWlGOgpdu"
      },
      "source": [
        "# Introduction"
      ]
    },
    {
      "cell_type": "markdown",
      "metadata": {
        "id": "TCIE5BylgtwO"
      },
      "source": [
        "https://docs.python.org/3/tutorial/"
      ]
    },
    {
      "cell_type": "markdown",
      "metadata": {
        "id": "E1jWfkvxP5Om"
      },
      "source": [
        "# The Basics"
      ]
    },
    {
      "cell_type": "markdown",
      "metadata": {
        "id": "Y5dDc5_IE6Pd"
      },
      "source": [
        "Commenting"
      ]
    },
    {
      "cell_type": "code",
      "metadata": {
        "id": "0Yb6KkKE9kwM"
      },
      "source": [
        "# This is a comment\n",
        "This is not a comment #NOTE: This will cause error"
      ],
      "execution_count": null,
      "outputs": []
    },
    {
      "cell_type": "markdown",
      "metadata": {
        "id": "y8DmZji7E_0d"
      },
      "source": [
        "Value Assignment"
      ]
    },
    {
      "cell_type": "code",
      "metadata": {
        "id": "OXBWGmHk9rkx"
      },
      "source": [
        "a # Nothing assigned, will result in error"
      ],
      "execution_count": null,
      "outputs": []
    },
    {
      "cell_type": "code",
      "metadata": {
        "id": "Xe-6SBHe95qE"
      },
      "source": [
        "a = 1\n",
        "b = 2\n",
        "c = 3\n",
        "a"
      ],
      "execution_count": null,
      "outputs": []
    },
    {
      "cell_type": "markdown",
      "metadata": {
        "id": "_a2QiKciFHTu"
      },
      "source": [
        "Simple Math"
      ]
    },
    {
      "cell_type": "code",
      "metadata": {
        "id": "RFVDE-XC98Zc"
      },
      "source": [
        "a + b"
      ],
      "execution_count": null,
      "outputs": []
    },
    {
      "cell_type": "code",
      "metadata": {
        "id": "ebmwOHOL-US6"
      },
      "source": [
        "d = a + b\n",
        "d"
      ],
      "execution_count": null,
      "outputs": []
    },
    {
      "cell_type": "code",
      "metadata": {
        "id": "0l-1WxIP-YbC"
      },
      "source": [
        "e = b*c\n",
        "e"
      ],
      "execution_count": null,
      "outputs": []
    },
    {
      "cell_type": "code",
      "metadata": {
        "id": "QOTojVa2-bPy"
      },
      "source": [
        "f = e/b\n",
        "f"
      ],
      "execution_count": null,
      "outputs": []
    },
    {
      "cell_type": "markdown",
      "metadata": {
        "id": "DAm6uTPsoQKv"
      },
      "source": [
        "Logic Statements"
      ]
    },
    {
      "cell_type": "code",
      "metadata": {
        "id": "BLDiBh-uB8xQ"
      },
      "source": [
        "3 >= 2"
      ],
      "execution_count": null,
      "outputs": []
    },
    {
      "cell_type": "code",
      "metadata": {
        "id": "1A6Tole0CChq"
      },
      "source": [
        "4 < 4"
      ],
      "execution_count": null,
      "outputs": []
    },
    {
      "cell_type": "code",
      "metadata": {
        "id": "C_X5a1WUCFx3"
      },
      "source": [
        "4 == 4"
      ],
      "execution_count": null,
      "outputs": []
    },
    {
      "cell_type": "code",
      "metadata": {
        "id": "CpEqBkpHCIkD"
      },
      "source": [
        "a != b"
      ],
      "execution_count": null,
      "outputs": []
    },
    {
      "cell_type": "markdown",
      "metadata": {
        "id": "3Q8ZQqLmP_md"
      },
      "source": [
        "# Data Structures"
      ]
    },
    {
      "cell_type": "markdown",
      "metadata": {
        "id": "iUtHaHiUFKHu"
      },
      "source": [
        "Lists\n"
      ]
    },
    {
      "cell_type": "code",
      "metadata": {
        "id": "WCTngCUbFPTT"
      },
      "source": [
        "List = [3, 4, 5]\n",
        "List.append(6)\n",
        "List.append(7)\n",
        "List"
      ],
      "execution_count": null,
      "outputs": []
    },
    {
      "cell_type": "code",
      "metadata": {
        "id": "j70dpjfoPyZP"
      },
      "source": [
        "List[0]"
      ],
      "execution_count": null,
      "outputs": []
    },
    {
      "cell_type": "code",
      "metadata": {
        "id": "CaMLfP6KSf8m"
      },
      "source": [
        "List[1:4]"
      ],
      "execution_count": null,
      "outputs": []
    },
    {
      "cell_type": "markdown",
      "metadata": {
        "id": "SSWNafKvcRR_"
      },
      "source": [
        "Nested Lists"
      ]
    },
    {
      "cell_type": "code",
      "metadata": {
        "id": "7aRCvoYXTgqX"
      },
      "source": [
        "matrix = [\n",
        "        [1, 2, 3, 4],\n",
        "        [5, 6, 7, 8],\n",
        "        [9, 10, 11, 12],\n",
        "        ]\n",
        "matrix"
      ],
      "execution_count": null,
      "outputs": []
    },
    {
      "cell_type": "code",
      "metadata": {
        "id": "3U86ebEkcqo8"
      },
      "source": [
        "matrix[0][2]"
      ],
      "execution_count": null,
      "outputs": []
    },
    {
      "cell_type": "code",
      "metadata": {
        "id": "3RtvAS2ad3wH"
      },
      "source": [
        "matrix[0][2] = 13 # Can be modified\n",
        "matrix[0][2]"
      ],
      "execution_count": null,
      "outputs": []
    },
    {
      "cell_type": "markdown",
      "metadata": {
        "id": "bYLeAZXddI0X"
      },
      "source": [
        "Tuples and Sequences"
      ]
    },
    {
      "cell_type": "code",
      "metadata": {
        "id": "xnFq_MmzdId_"
      },
      "source": [
        "t = 12345, 54321, 'hello!'\n",
        "t"
      ],
      "execution_count": null,
      "outputs": []
    },
    {
      "cell_type": "code",
      "metadata": {
        "id": "hl-TPnurdU0P"
      },
      "source": [
        "t[0]"
      ],
      "execution_count": null,
      "outputs": []
    },
    {
      "cell_type": "code",
      "metadata": {
        "id": "Yp000g5Tda74"
      },
      "source": [
        "u = t, (1, 2, 3, 4, 5) # Can be nested\n",
        "u"
      ],
      "execution_count": null,
      "outputs": []
    },
    {
      "cell_type": "code",
      "metadata": {
        "id": "eCOtu9USdpEC"
      },
      "source": [
        "t[0] = 54321 # Can't modify single value "
      ],
      "execution_count": null,
      "outputs": []
    },
    {
      "cell_type": "markdown",
      "metadata": {
        "id": "_YLDhoGVeCP5"
      },
      "source": [
        "Sets"
      ]
    },
    {
      "cell_type": "code",
      "metadata": {
        "id": "kw_lmV3reGBh"
      },
      "source": [
        "basket = {'apple', 'orange', 'apple', 'pear', 'orange', 'banana'} \n",
        "basket # Duplicates are removed, only contains unique values"
      ],
      "execution_count": null,
      "outputs": []
    },
    {
      "cell_type": "code",
      "metadata": {
        "id": "osJzwlnZeVTX"
      },
      "source": [
        "basket[0] # Can't pull single value"
      ],
      "execution_count": null,
      "outputs": []
    },
    {
      "cell_type": "code",
      "metadata": {
        "id": "K9dDLaC8ebd3"
      },
      "source": [
        "'orange' in basket  # Fast membership testing"
      ],
      "execution_count": null,
      "outputs": []
    },
    {
      "cell_type": "code",
      "metadata": {
        "id": "xEXgkEDKfEjh"
      },
      "source": [
        "'crabgrass' in basket"
      ],
      "execution_count": null,
      "outputs": []
    },
    {
      "cell_type": "code",
      "metadata": {
        "id": "_LIe5zbrfIio"
      },
      "source": [
        "g = set('abracadabra')\n",
        "h = set('alacazam')\n",
        "g"
      ],
      "execution_count": null,
      "outputs": []
    },
    {
      "cell_type": "code",
      "metadata": {
        "id": "iRY7pd5VfQuH"
      },
      "source": [
        "g - h # Letters in a but not in b"
      ],
      "execution_count": null,
      "outputs": []
    },
    {
      "cell_type": "code",
      "metadata": {
        "id": "fRm7-roMfWx4"
      },
      "source": [
        "g | h # letters in a or b or both"
      ],
      "execution_count": null,
      "outputs": []
    },
    {
      "cell_type": "code",
      "metadata": {
        "id": "vnyLl1P4fgWY"
      },
      "source": [
        "g & h # letters in both a and b"
      ],
      "execution_count": null,
      "outputs": []
    },
    {
      "cell_type": "code",
      "metadata": {
        "id": "QTqu7MigfjX4"
      },
      "source": [
        "g ^ h # letters in a or b but not both"
      ],
      "execution_count": null,
      "outputs": []
    },
    {
      "cell_type": "markdown",
      "metadata": {
        "id": "aW9Ly76dfr-Z"
      },
      "source": [
        "Dictionary"
      ]
    },
    {
      "cell_type": "code",
      "metadata": {
        "id": "MdXfUMPif_kK"
      },
      "source": [
        "tel = {'jack': 4098, 'snape': 4139}\n",
        "tel"
      ],
      "execution_count": null,
      "outputs": []
    },
    {
      "cell_type": "code",
      "metadata": {
        "id": "z6lG7dWhgMlk"
      },
      "source": [
        "tel['guido'] = 4127\n",
        "tel"
      ],
      "execution_count": null,
      "outputs": []
    },
    {
      "cell_type": "code",
      "metadata": {
        "id": "KOmCfoZ7gVvM"
      },
      "source": [
        "tel['jack']"
      ],
      "execution_count": null,
      "outputs": []
    },
    {
      "cell_type": "markdown",
      "metadata": {
        "id": "Utm5kJ6bhn26"
      },
      "source": [
        "# Control Flow"
      ]
    },
    {
      "cell_type": "markdown",
      "metadata": {
        "id": "XiQx_eynh1kk"
      },
      "source": [
        "If statement "
      ]
    },
    {
      "cell_type": "code",
      "metadata": {
        "id": "Pj2ZjQVUh078"
      },
      "source": [
        "if b >= a:\n",
        "  z = a + b + c \n",
        "z"
      ],
      "execution_count": null,
      "outputs": []
    },
    {
      "cell_type": "markdown",
      "metadata": {
        "id": "XKVvnpTdqBHC"
      },
      "source": [
        "For Loop"
      ]
    },
    {
      "cell_type": "code",
      "metadata": {
        "id": "eB81DB5qqF56"
      },
      "source": [
        "for i in range(10):\n",
        "  print(i)"
      ],
      "execution_count": null,
      "outputs": []
    },
    {
      "cell_type": "code",
      "metadata": {
        "id": "5mkK7ZuVqVga"
      },
      "source": [
        "j = 0\n",
        "while j<10:\n",
        "  j=j+1\n",
        "  print(j)"
      ],
      "execution_count": null,
      "outputs": []
    },
    {
      "cell_type": "markdown",
      "metadata": {
        "id": "1R_rLv0Wh_JN"
      },
      "source": [
        "# Functions"
      ]
    },
    {
      "cell_type": "code",
      "metadata": {
        "id": "GBwD8mFah-sD"
      },
      "source": [
        "#____________________What is a function?______________________________ \n",
        "\n",
        "print(\"Hello World\")"
      ],
      "execution_count": null,
      "outputs": []
    },
    {
      "cell_type": "code",
      "metadata": {
        "id": "stbwjqDkiqX_"
      },
      "source": [
        "print(Hello World) # NOTE: This will not work"
      ],
      "execution_count": null,
      "outputs": []
    },
    {
      "cell_type": "code",
      "metadata": {
        "id": "Wdy-j1OQkiaU"
      },
      "source": [
        "abs(-1)"
      ],
      "execution_count": null,
      "outputs": []
    },
    {
      "cell_type": "markdown",
      "metadata": {
        "id": "Vu1pc12glByA"
      },
      "source": [
        "User defined functions"
      ]
    },
    {
      "cell_type": "code",
      "metadata": {
        "id": "b1EHpqrglE6Q"
      },
      "source": [
        "def new_function(k, n):\n",
        "  m = k**2 + n          # NOTE: Exponent syntax different than R \n",
        "  print(m)              # NOTE: Indents matter"
      ],
      "execution_count": null,
      "outputs": []
    },
    {
      "cell_type": "code",
      "metadata": {
        "id": "pzC8cw_ulWpR"
      },
      "source": [
        "new_function(6, c)"
      ],
      "execution_count": null,
      "outputs": []
    },
    {
      "cell_type": "markdown",
      "metadata": {
        "id": "OdqI397TqsIg"
      },
      "source": [
        "Combining functions with control flow "
      ]
    },
    {
      "cell_type": "code",
      "metadata": {
        "id": "48KHPeyRiwoR"
      },
      "source": [
        "def new_function_1(a):\n",
        "  for i in range(a):\n",
        "    b = (i+1)**2\n",
        "    print(b)"
      ],
      "execution_count": null,
      "outputs": []
    },
    {
      "cell_type": "code",
      "metadata": {
        "id": "af2lgthVje97"
      },
      "source": [
        "new_function_1(5)"
      ],
      "execution_count": null,
      "outputs": []
    },
    {
      "cell_type": "markdown",
      "metadata": {
        "id": "Pwbll2-Fr5tN"
      },
      "source": [
        "# Utilizing packages"
      ]
    },
    {
      "cell_type": "code",
      "metadata": {
        "id": "fQZsFM0seFzG"
      },
      "source": [
        "import __hello__"
      ],
      "execution_count": null,
      "outputs": []
    },
    {
      "cell_type": "code",
      "metadata": {
        "id": "DcUfR8H1gZCJ"
      },
      "source": [
        "import this"
      ],
      "execution_count": null,
      "outputs": []
    },
    {
      "cell_type": "code",
      "metadata": {
        "id": "4nO40wy_iXUT"
      },
      "source": [
        "import numpy as np\n",
        "\n",
        "np.ceil(0.29)"
      ],
      "execution_count": null,
      "outputs": []
    }
  ]
}